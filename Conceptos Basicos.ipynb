{
 "cells": [
  {
   "cell_type": "markdown",
   "metadata": {},
   "source": [
    "## Nivel Básico (Fundamentos)\n",
    "Estos temas son esenciales para moverte con soltura en Python.\n",
    "\n",
    "-   Sintaxis básica: impresión (print), comentarios (#), identación.\n",
    "\n",
    "-   Tipos de datos primitivos:\n",
    "\n",
    "Números (int, float)\n",
    "\n",
    "Cadenas de texto (str)\n",
    "\n",
    "Booleanos (bool)\n",
    "\n",
    "-   Operadores básicos:\n",
    "\n",
    "\n",
    "Aritméticos (+, -, *, /, //, %, **)\n",
    "\n",
    "Comparación (==, !=, >, <, >=, <=)\n",
    "\n",
    "Lógicos (and, or, not)\n",
    "\n",
    "Asignación (=, +=, -=, etc.)\n",
    "\n",
    "\n",
    "-   Estructuras de datos básicas:\n",
    "\n",
    "\n",
    "Listas (list)\n",
    "\n",
    "Tuplas (tuple)\n",
    "\n",
    "Conjuntos (set)\n",
    "\n",
    "Diccionarios (dict)\n",
    "\n",
    "-   Estructuras de control:\n",
    "\n",
    "Condicionales (if, elif, else)\n",
    "Bucles (for, while)\n",
    "\n",
    "Palabras clave en bucles (break, continue, pass)\n",
    "\n",
    "-   Funciones básicas:\n",
    "\n",
    "Definir funciones (def)\n",
    "\n",
    "Parámetros y argumentos\n",
    "\n",
    "Retorno de valores (return)\n",
    "\n",
    "\n",
    "-   Errores y excepciones:\n",
    "\n",
    "Tipos comunes de errores (TypeError, ValueError, etc.)\n",
    "\n",
    "Manejo de excepciones (try, except, finally)\n",
    "\n",
    "## 🟡 Nivel Intermedio (Programación estructurada)\n",
    "\n",
    "Aquí empiezas a escribir código más organizado y optimizado.\n",
    "\n",
    "Manejo de cadenas (str) avanzado:\n",
    "Métodos útiles (.split(), .join(), .replace(), .strip(), etc.)\n",
    "Formato de cadenas (f-strings, .format())\n",
    "Listas avanzadas:\n",
    "Comprensión de listas ([x for x in iterable if condition])\n",
    "Métodos como .append(), .extend(), .remove(), .sort(), etc.\n",
    "Diccionarios avanzados:\n",
    "Iteración sobre claves y valores\n",
    "Métodos como .get(), .items(), .keys(), .values()\n",
    "Manejo de archivos:\n",
    "Lectura y escritura (open(), .read(), .write(), with open())\n",
    "Funciones avanzadas:\n",
    "Argumentos por defecto y *args/**kwargs\n",
    "Funciones lambda\n",
    "Map, Filter y Reduce\n",
    "Módulos y Paquetes:\n",
    "Importar librerías (import, from ... import)\n",
    "Uso de bibliotecas estándar (os, math, re, etc.)\n",
    "Expresiones regulares (re) (si vas a trabajar con textos)\n",
    "🟠 Nivel Avanzado (Preparación para ciencia de datos)\n",
    "Estos temas ayudan a escribir código más limpio y reutilizable.\n",
    "\n",
    "Programación orientada a objetos (POO) (si es necesario):\n",
    "Clases y objetos\n",
    "Herencia y métodos especiales (__init__, __str__, etc.)\n",
    "Manejo de errores avanzado\n",
    "Decoradores y Generadores (útil pero no esencial al inicio)\n",
    "Comprensión profunda de listas, sets y diccionarios (en rendimiento y complejidad)\n",
    "Entornos virtuales y gestión de paquetes (pip, venv)\n",
    "✅ Siguiente paso: Numpy y Pandas\n",
    "Una vez tengas claro lo anterior, puedes ir a:\n",
    "\n",
    "Numpy: Arrays, operaciones vectorizadas, estadísticas básicas.\n",
    "Pandas: DataFrames, manejo de datos faltantes, filtrado y agrupación."
   ]
  },
  {
   "cell_type": "markdown",
   "metadata": {},
   "source": [
    "# Librerias\n",
    "Se importan las librerias"
   ]
  },
  {
   "cell_type": "code",
   "execution_count": 5,
   "metadata": {},
   "outputs": [],
   "source": [
    "import pandas as pd\n",
    "import numpy as np \n",
    "from datetime import datetime"
   ]
  },
  {
   "cell_type": "markdown",
   "metadata": {},
   "source": [
    "## Nivel Basico \n",
    "-   Sintaxis básica: impresión (print), comentarios (#), identación.\n",
    "\n",
    "-   Tipos de datos primitivos:"
   ]
  },
  {
   "cell_type": "markdown",
   "metadata": {},
   "source": [
    "# Sintaxis básica: impresión (print), comentarios (#), identación."
   ]
  },
  {
   "cell_type": "code",
   "execution_count": 10,
   "metadata": {},
   "outputs": [
    {
     "name": "stdout",
     "output_type": "stream",
     "text": [
      "¡Hola, mundo!\n",
      "123\n",
      "8\n",
      "Hola Ana\n",
      "Hola Ana\n"
     ]
    }
   ],
   "source": [
    "# Mostrar texto\n",
    "print(\"¡Hola, mundo!\")\n",
    "# Mostrar números\n",
    "print(123)\n",
    "# Mostrar resultados de operaciones\n",
    "print(5 + 3)\n",
    "# Combinar texto y variables\n",
    "nombre = \"Ana\"\n",
    "print(\"Hola\", nombre)        # Comas añaden espacios automáticamente\n",
    "print(f\"Hola {nombre}\")      # f-strings para incrustar variables\n"
   ]
  },
  {
   "cell_type": "code",
   "execution_count": 11,
   "metadata": {},
   "outputs": [
    {
     "name": "stdout",
     "output_type": "stream",
     "text": [
      "5\n"
     ]
    }
   ],
   "source": [
    "# Esto es un comentario de una sola línea\n",
    "\"\"\"\n",
    "Este es un comentario\n",
    "de varias líneas (también llamado docstring).\n",
    "\"\"\"\n",
    "# Ejemplo práctico\n",
    "x = 5  # Variable que almacena el número 5\n",
    "print(x)  # Imprimimos el valor de x\n"
   ]
  },
  {
   "cell_type": "code",
   "execution_count": null,
   "metadata": {},
   "outputs": [
    {
     "name": "stdout",
     "output_type": "stream",
     "text": [
      "Está bien indentado\n",
      "Esto dará error\n",
      "Eres mayor de edad\n",
      "Puedes votar\n"
     ]
    }
   ],
   "source": [
    "''''La indentación es clave en Python. Se usan 4 espacios (o tabulación) para indicar bloques de código.'''\n",
    "# Correcto\n",
    "if True:\n",
    "    print(\"Está bien indentado\")\n",
    "# Incorrecto (genera error)\n",
    "if True:\n",
    " print(\"Esto dará error\")\n",
    "''' En estructuras como bucles o condicionales, todo el bloque debe estar alineado: '''\n",
    "edad = 20\n",
    "if edad >= 18:\n",
    "    print(\"Eres mayor de edad\")\n",
    "    print(\"Puedes votar\")\n",
    "else:\n",
    "    print(\"Eres menor de edad\")"
   ]
  },
  {
   "cell_type": "markdown",
   "metadata": {},
   "source": [
    "## Tipos de datos primitivos:"
   ]
  },
  {
   "cell_type": "code",
   "execution_count": 23,
   "metadata": {},
   "outputs": [
    {
     "name": "stdout",
     "output_type": "stream",
     "text": [
      "10.14\n",
      "49\n",
      "2.229299363057325\n"
     ]
    }
   ],
   "source": [
    "entero = 7        # int\n",
    "decimal = 3.14    # float\n",
    "# Operaciones básicas\n",
    "suma = entero + decimal\n",
    "multiplicacion = entero * 2\n",
    "division = entero / 2\n",
    "potencia = entero ** 2  # 7 al cuadrado\n",
    "print(suma)             # 10.14\n",
    "print(potencia)         # 49\n",
    "print(f'{entero/decimal}')\n"
   ]
  },
  {
   "cell_type": "markdown",
   "metadata": {},
   "source": [
    "Cadenas de texto (str)"
   ]
  },
  {
   "cell_type": "code",
   "execution_count": 22,
   "metadata": {},
   "outputs": [
    {
     "name": "stdout",
     "output_type": "stream",
     "text": [
      "Hola Mundo\n",
      "10\n",
      "H\n",
      "o\n"
     ]
    }
   ],
   "source": [
    "texto1 = \"Hola\"\n",
    "texto2 = 'Mundo'\n",
    "# Concatenación\n",
    "saludo = texto1 + \" \" + texto2\n",
    "print(saludo)  # Hola Mundo\n",
    "# Longitud del texto\n",
    "print(len(saludo))  # 10\n",
    "# Acceso por índice\n",
    "print(saludo[0])    # H\n",
    "print(saludo[-1])   # o (última letra)\n"
   ]
  },
  {
   "cell_type": "markdown",
   "metadata": {},
   "source": [
    "Metodos comunes de cadenas de texto"
   ]
  },
  {
   "cell_type": "code",
   "execution_count": 24,
   "metadata": {},
   "outputs": [
    {
     "name": "stdout",
     "output_type": "stream",
     "text": [
      "  python es genial  \n",
      "  PYTHON ES GENIAL  \n",
      "Python es Genial\n",
      "  Python es increíble  \n"
     ]
    }
   ],
   "source": [
    "frase = \"  Python es Genial  \"\n",
    "print(frase.lower())       # python es genial\n",
    "print(frase.upper())       # PYTHON ES GENIAL\n",
    "print(frase.strip())       # Elimina espacios al inicio y al final\n",
    "print(frase.replace(\"Genial\", \"increíble\"))  # Python es increíble\n"
   ]
  },
  {
   "cell_type": "markdown",
   "metadata": {},
   "source": [
    "3. Booleanos (bool)"
   ]
  },
  {
   "cell_type": "code",
   "execution_count": 26,
   "metadata": {},
   "outputs": [
    {
     "name": "stdout",
     "output_type": "stream",
     "text": [
      "True\n",
      "False\n",
      "True\n",
      "True\n"
     ]
    }
   ],
   "source": [
    "# Solo tienen dos valores: True o False.\n",
    "es_mayor = True\n",
    "es_menor = False\n",
    "\n",
    "# Operadores lógicos\n",
    "edad = 20\n",
    "print(edad >= 18)  # True\n",
    "print(edad < 18)   # False\n",
    "\n",
    "# Combinación de condiciones\n",
    "print(edad > 18 and edad < 30)  # True (ambas condiciones son verdaderas)\n",
    "print(edad < 18 or edad > 15)   # True (una de las condiciones es verdadera)\n"
   ]
  },
  {
   "cell_type": "markdown",
   "metadata": {},
   "source": [
    "Conversión entre tipos"
   ]
  },
  {
   "cell_type": "code",
   "execution_count": 28,
   "metadata": {},
   "outputs": [
    {
     "name": "stdout",
     "output_type": "stream",
     "text": [
      "10 <class 'str'>\n",
      "30\n",
      "7.0\n"
     ]
    }
   ],
   "source": [
    "# De entero a cadena\n",
    "num = 10\n",
    "texto = str(num)\n",
    "print(texto, type(texto))  # 10 <class 'str'>\n",
    "\n",
    "# De cadena a número\n",
    "cadena = \"25\"\n",
    "numero = int(cadena)\n",
    "print(numero + 5)  # 30\n",
    "\n",
    "# De número a decimal\n",
    "n = 7\n",
    "decimal = float(n)\n",
    "print(decimal)  # 7.0\n"
   ]
  },
  {
   "cell_type": "code",
   "execution_count": null,
   "metadata": {},
   "outputs": [],
   "source": []
  }
 ],
 "metadata": {
  "kernelspec": {
   "display_name": "Python 3",
   "language": "python",
   "name": "python3"
  },
  "language_info": {
   "codemirror_mode": {
    "name": "ipython",
    "version": 3
   },
   "file_extension": ".py",
   "mimetype": "text/x-python",
   "name": "python",
   "nbconvert_exporter": "python",
   "pygments_lexer": "ipython3",
   "version": "3.11.4"
  }
 },
 "nbformat": 4,
 "nbformat_minor": 2
}
